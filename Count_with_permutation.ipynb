{
 "cells": [
  {
   "cell_type": "code",
   "execution_count": null,
   "metadata": {},
   "outputs": [
    {
     "name": "stdout",
     "output_type": "stream",
     "text": [
      "Training set metrics:\n",
      "Accuracy: 0.9670588235294117\n",
      "Precision: 1.0\n",
      "Recall: 0.44\n",
      "Test set metrics:\n",
      "Accuracy: 0.9366197183098591\n",
      "Precision: 0.0\n",
      "Recall: 0.0\n"
     ]
    },
    {
     "name": "stderr",
     "output_type": "stream",
     "text": [
      "/Users/sumaiya/anaconda3/lib/python3.7/site-packages/sklearn/metrics/_classification.py:1221: UndefinedMetricWarning: Precision is ill-defined and being set to 0.0 due to no predicted samples. Use `zero_division` parameter to control this behavior.\n",
      "  _warn_prf(average, modifier, msg_start, len(result))\n"
     ]
    }
   ],
   "source": [
    "from sklearn.inspection import permutation_importance\n",
    "from sklearn.ensemble import RandomForestClassifier\n",
    "from matplotlib import pyplot\n",
    "from sklearn.neighbors import KNeighborsClassifier\n",
    "import numpy as np\n",
    "from sklearn.ensemble import ExtraTreesClassifier\n",
    "from sklearn.metrics import recall_score\n",
    "from sklearn.metrics import balanced_accuracy_score\n",
    "from sklearn.metrics import matthews_corrcoef\n",
    "from sklearn.metrics import f1_score\n",
    "from sklearn.metrics import precision_score\n",
    "from sklearn.metrics import confusion_matrix\n",
    "from sklearn.metrics import accuracy_score\n",
    "import csv\n",
    "from sklearn.model_selection import train_test_split\n",
    "\n",
    "data = open('constrained_vs_non_constrained_IDRs_modified_for_excel.txt').readlines()[1:]\n",
    "\n",
    "feature_names = ['active_site','metal_binding_site','binding_site','site','dna_binding_site','nucleotide_phosphate_binding','zinc_finger','calcium_binding','region','repeat','coiled_coil','motif','domain','topological_domain','transmembrane','intramembrane','peptide','propeptide','transit_peptide','signal_peptide','modified_residues','lipidation','glycosylation','disulfide_bond','cross_link']\\\n",
    "\n",
    "X = []\n",
    "y = []\n",
    "\n",
    "for line in data:\n",
    "    line = line[:-1].split('\\t')\n",
    "    if line[-1] == 'constrained':\n",
    "        y.append(1)\n",
    "    else:\n",
    "        y.append(0)\n",
    "\n",
    "    #X.append(line[17:41])\n",
    "    X.append(line[42-25-1:42-1])\n",
    "    for i in range(len(X[-1])):\n",
    "        X[-1][i] = int(X[-1][i])\n",
    "\n",
    "X = np.array(X)\n",
    "y = np.array(y)\n",
    "\n",
    "# define the model\n",
    "model = RandomForestClassifier(criterion = \"gini\")\n",
    "#model = KNeighborsClassifier()\n",
    "# fit the model\n",
    "model.fit(X, y)\n",
    "\n",
    "X_train, X_test, y_train, y_test = train_test_split(X, y, stratify=y)\n",
    "\n",
    "model.fit(X_train, y_train)\n",
    "\n",
    "print('Training set metrics:')\n",
    "print('Accuracy:', accuracy_score(y_train, model.predict(X_train)))\n",
    "print('Precision:', precision_score(y_train, model.predict(X_train)))\n",
    "print('Recall:', recall_score(y_train, model.predict(X_train)))\n",
    "\n",
    "print('Test set metrics:')\n",
    "print('Accuracy:', accuracy_score(y_test, model.predict(X_test)))\n",
    "print('Precision:', precision_score(y_test, model.predict(X_test)))\n",
    "print('Recall:', recall_score(y_test, model.predict(X_test)))\n",
    "\n",
    "# get importance\n",
    "results = permutation_importance(model, X, y, scoring='average_precision', n_repeats = 1000)\n",
    "importance = results.importances_mean\n",
    "#print(importance)\n",
    "indices = np.argsort(importance)[::-1]\n",
    "#print(indices)\n",
    "std = results.importances_std\n",
    "#print(std)\n",
    "# summarize feature importance\n",
    "for i,v in enumerate(importance):\n",
    "    print('Feature: %s, Score: %.5f' % (feature_names[i],v))\n",
    "\n",
    "# plot feature importance\n",
    "pyplot.bar([feature_names[x] for x in indices], importance[indices],color=\"yellowgreen\", yerr=std[indices], align=\"center\")\n",
    "pyplot.xticks(rotation=90)\n",
    "pyplot.ylabel('Scores')\n",
    "pyplot.xlabel('Feature Name')\n",
    "fig = pyplot.gcf()\n",
    "fig.set_size_inches(10.5, 8)\n",
    "fig.tight_layout()\n",
    "pyplot.show()\n",
    "#fig.savefig('count_perm_gini_avg_precision.png', dpi=300)\n"
   ]
  },
  {
   "cell_type": "code",
   "execution_count": null,
   "metadata": {},
   "outputs": [],
   "source": []
  }
 ],
 "metadata": {
  "kernelspec": {
   "display_name": "Python 3",
   "language": "python",
   "name": "python3"
  },
  "language_info": {
   "codemirror_mode": {
    "name": "ipython",
    "version": 3
   },
   "file_extension": ".py",
   "mimetype": "text/x-python",
   "name": "python",
   "nbconvert_exporter": "python",
   "pygments_lexer": "ipython3",
   "version": "3.7.7"
  }
 },
 "nbformat": 4,
 "nbformat_minor": 4
}
